{
 "cells": [
  {
   "cell_type": "code",
   "execution_count": 3,
   "id": "e123dcbb-f556-4578-8378-39f6fd229e08",
   "metadata": {},
   "outputs": [
    {
     "data": {
      "text/plain": [
       "['SAS', 'R', 'PYTHON', 'SPARK']"
      ]
     },
     "execution_count": 3,
     "metadata": {},
     "output_type": "execute_result"
    }
   ],
   "source": [
    "input_list=['SAS', 'R', 'PYTHON', 'SPSS'] \n",
    "input_list[3]=\"SPARK\";\n",
    "input_list"
   ]
  },
  {
   "cell_type": "code",
   "execution_count": 5,
   "id": "1db3bea7-bce2-4708-9fc6-ea262a04611d",
   "metadata": {},
   "outputs": [
    {
     "data": {
      "text/plain": [
       "['I love Data Science ', ' Python']"
      ]
     },
     "execution_count": 5,
     "metadata": {},
     "output_type": "execute_result"
    }
   ],
   "source": [
    "input_str = 'I love Data Science & Python'\n",
    "input_st1 = input_str.split('&')\n",
    "input_st1"
   ]
  },
  {
   "cell_type": "code",
   "execution_count": 9,
   "id": "c8a4ef08-8def-4f76-9288-4bd160d5ff43",
   "metadata": {},
   "outputs": [
    {
     "data": {
      "text/plain": [
       "'Pythons syntax is easy to learn & Pythons syntax is very clear'"
      ]
     },
     "execution_count": 9,
     "metadata": {},
     "output_type": "execute_result"
    }
   ],
   "source": [
    "input_str =  ['Pythons syntax is easy to learn', 'Pythons syntax is very clear']\n",
    "str1 = input_str[0]+' & '+input_str[1]\n",
    "str1"
   ]
  },
  {
   "cell_type": "code",
   "execution_count": 11,
   "id": "89b2fef9-23c5-446e-9267-851a7ad6af29",
   "metadata": {},
   "outputs": [
    {
     "data": {
      "text/plain": [
       "'Python'"
      ]
     },
     "execution_count": 11,
     "metadata": {},
     "output_type": "execute_result"
    }
   ],
   "source": [
    "input_list = [['SAS','R'],['Tableau','SQL'],['Python','Java']]\n",
    "input_list[2][0]"
   ]
  },
  {
   "cell_type": "code",
   "execution_count": 16,
   "id": "5ca284f1-3af4-4060-95f0-32b2878ed3ce",
   "metadata": {},
   "outputs": [
    {
     "name": "stdin",
     "output_type": "stream",
     "text": [
      "Enter a string ni t in\n"
     ]
    },
    {
     "name": "stdout",
     "output_type": "stream",
     "text": [
      "1\n"
     ]
    }
   ],
   "source": [
    "a = input(\"Enter a string\")\n",
    "b = a[::-1]\n",
    "if(a == b):\n",
    "    print(1)\n",
    "else:\n",
    "    print(0)"
   ]
  },
  {
   "cell_type": "code",
   "execution_count": 39,
   "id": "577ecbc6-9ae9-4e19-b2c5-791347ec41a5",
   "metadata": {},
   "outputs": [
    {
     "name": "stdin",
     "output_type": "stream",
     "text": [
      "Enter a sentence i am java dev\n"
     ]
    },
    {
     "name": "stdout",
     "output_type": "stream",
     "text": [
      "4\n",
      "dev\n",
      "java\n",
      "am\n",
      "i\n"
     ]
    },
    {
     "data": {
      "text/plain": [
       "'devjavaami'"
      ]
     },
     "execution_count": 39,
     "metadata": {},
     "output_type": "execute_result"
    }
   ],
   "source": [
    "a = input(\"Enter a sentence\")\n",
    "b = a.split(' ')\n",
    "print(len(b))\n",
    "c = '';\n",
    "for x in range(len(b)-1,-1,-1):\n",
    "    print(b[x])\n",
    "    c = c + b[x]\n",
    "c"
   ]
  },
  {
   "cell_type": "code",
   "execution_count": 41,
   "id": "e377019f-2678-4b26-b8f2-ea72c2c20f2e",
   "metadata": {},
   "outputs": [
    {
     "name": "stdin",
     "output_type": "stream",
     "text": [
      "Enter String caloRie ConsuMed\n"
     ]
    },
    {
     "name": "stdout",
     "output_type": "stream",
     "text": [
      "calorie_consumed\n"
     ]
    }
   ],
   "source": [
    "a = input('Enter String')\n",
    "a = a.lower()\n",
    "if(a.__contains__(' ')):\n",
    "    a = a.replace(' ','_')\n",
    "print(a)"
   ]
  },
  {
   "cell_type": "code",
   "execution_count": 42,
   "id": "76861027-5c49-4aba-b1a4-62bc9da8eec8",
   "metadata": {},
   "outputs": [
    {
     "name": "stdin",
     "output_type": "stream",
     "text": [
      "Enter String data science\n"
     ]
    },
    {
     "name": "stdout",
     "output_type": "stream",
     "text": [
      "data_science\n"
     ]
    }
   ],
   "source": [
    "a = input('Enter String')\n",
    "a = a.lower()\n",
    "if(a.__contains__(' ')):\n",
    "    a = a.replace(' ','_')\n",
    "print(a)"
   ]
  },
  {
   "cell_type": "code",
   "execution_count": 43,
   "id": "09c85942-a2a5-4eae-b333-4f0482a1d925",
   "metadata": {},
   "outputs": [
    {
     "name": "stdin",
     "output_type": "stream",
     "text": [
      "Enter String datascience\n"
     ]
    },
    {
     "name": "stdout",
     "output_type": "stream",
     "text": [
      "datascience\n"
     ]
    }
   ],
   "source": [
    "a = input('Enter String')\n",
    "a = a.lower()\n",
    "if(a.__contains__(' ')):\n",
    "    a = a.replace(' ','_')\n",
    "print(a)"
   ]
  },
  {
   "cell_type": "code",
   "execution_count": 54,
   "id": "9c9829e0-8a85-4ce6-b847-1b6c5c594028",
   "metadata": {},
   "outputs": [
    {
     "data": {
      "text/plain": [
       "'love'"
      ]
     },
     "execution_count": 54,
     "metadata": {},
     "output_type": "execute_result"
    }
   ],
   "source": [
    "S = 'i love Python'\n",
    "#S[-11:-7]  ---correct\n",
    "#S[2:6]   ---correct"
   ]
  },
  {
   "cell_type": "code",
   "execution_count": 55,
   "id": "b3e5ed80-2481-48ad-a159-a2dcb0c99644",
   "metadata": {},
   "outputs": [
    {
     "data": {
      "text/plain": [
       "81"
      ]
     },
     "execution_count": 55,
     "metadata": {},
     "output_type": "execute_result"
    }
   ],
   "source": [
    "3*3**3"
   ]
  },
  {
   "cell_type": "code",
   "execution_count": 56,
   "id": "323643af-bd33-4c31-b013-738e3b7bdd9b",
   "metadata": {},
   "outputs": [
    {
     "data": {
      "text/plain": [
       "1"
      ]
     },
     "execution_count": 56,
     "metadata": {},
     "output_type": "execute_result"
    }
   ],
   "source": [
    " ((500//7) % 5) ** 3"
   ]
  },
  {
   "cell_type": "code",
   "execution_count": 57,
   "id": "ca6c34b8-86cd-4e78-a00b-8e8ecb706367",
   "metadata": {},
   "outputs": [
    {
     "ename": "AttributeError",
     "evalue": "'tuple' object has no attribute 'append'",
     "output_type": "error",
     "traceback": [
      "\u001b[1;31m---------------------------------------------------------------------------\u001b[0m",
      "\u001b[1;31mAttributeError\u001b[0m                            Traceback (most recent call last)",
      "\u001b[1;32m<ipython-input-57-9d8c21e3c639>\u001b[0m in \u001b[0;36m<module>\u001b[1;34m\u001b[0m\n\u001b[0;32m      1\u001b[0m \u001b[0mT\u001b[0m \u001b[1;33m=\u001b[0m \u001b[1;33m(\u001b[0m\u001b[1;36m3\u001b[0m\u001b[1;33m,\u001b[0m \u001b[1;36m5\u001b[0m\u001b[1;33m,\u001b[0m \u001b[1;36m7\u001b[0m\u001b[1;33m,\u001b[0m \u001b[1;36m11\u001b[0m\u001b[1;33m)\u001b[0m\u001b[1;33m\u001b[0m\u001b[1;33m\u001b[0m\u001b[0m\n\u001b[1;32m----> 2\u001b[1;33m \u001b[0mT\u001b[0m\u001b[1;33m.\u001b[0m\u001b[0mappend\u001b[0m\u001b[1;33m(\u001b[0m\u001b[1;36m9\u001b[0m\u001b[1;33m)\u001b[0m\u001b[1;33m\u001b[0m\u001b[1;33m\u001b[0m\u001b[0m\n\u001b[0m",
      "\u001b[1;31mAttributeError\u001b[0m: 'tuple' object has no attribute 'append'"
     ]
    }
   ],
   "source": [
    "T = (3, 5, 7, 11)\n",
    "T.append(9)"
   ]
  },
  {
   "cell_type": "code",
   "execution_count": 60,
   "id": "a5f306ee-0791-4082-b4f9-8d47fa3a7f7b",
   "metadata": {},
   "outputs": [
    {
     "name": "stdout",
     "output_type": "stream",
     "text": [
      "6\n"
     ]
    }
   ],
   "source": [
    "l = [32, 34, 12, 27, 33]\n",
    "l.append((14, 19))\n",
    "print(len(l))\n"
   ]
  },
  {
   "cell_type": "code",
   "execution_count": 64,
   "id": "e88e4a7e-41af-49b6-9aeb-83a251d2fe49",
   "metadata": {},
   "outputs": [
    {
     "name": "stdout",
     "output_type": "stream",
     "text": [
      "1\n",
      "2\n",
      "3\n"
     ]
    }
   ],
   "source": [
    "D = {1:['Raj', 22], 2:['Simran', 21], 3:['Rahul', 40]}\n",
    "for val in D:\n",
    "    print(val)"
   ]
  },
  {
   "cell_type": "code",
   "execution_count": 68,
   "id": "7a212e45-7add-417c-b96c-89e245a7a2c9",
   "metadata": {},
   "outputs": [
    {
     "name": "stdout",
     "output_type": "stream",
     "text": [
      "[10, 9, 8, 7, 6, 5, 4, 3, 2]\n"
     ]
    }
   ],
   "source": [
    "print(list(range(10, 1, -1)))"
   ]
  },
  {
   "cell_type": "code",
   "execution_count": 79,
   "id": "837b3674-9c0f-4bce-8cdc-b3d8ec1304c4",
   "metadata": {},
   "outputs": [
    {
     "name": "stdout",
     "output_type": "stream",
     "text": [
      "My name is Ankit.\n",
      "I am a java dev.\n"
     ]
    },
    {
     "data": {
      "text/plain": [
       "['My', 'name', 'is', 'Ankit.', 'I', 'am', 'a', 'java', 'dev.']"
      ]
     },
     "execution_count": 79,
     "metadata": {},
     "output_type": "execute_result"
    }
   ],
   "source": [
    "#[word for word in sentence.split() for sentence in paragraph]\n",
    "paragraph = 'My name is Ankit.\\nI am a java dev.'\n",
    "single_word_list=[]\n",
    "for sentence in paragraph.split('\\n'): \n",
    "    print(sentence)\n",
    "    for word in sentence.split(' '):\n",
    "        single_word_list.append(word)\n",
    "single_word_list"
   ]
  },
  {
   "cell_type": "code",
   "execution_count": null,
   "id": "dc90b774-f286-4a82-b93e-39b7d8561e6e",
   "metadata": {},
   "outputs": [],
   "source": []
  }
 ],
 "metadata": {
  "kernelspec": {
   "display_name": "Python 3",
   "language": "python",
   "name": "python3"
  },
  "language_info": {
   "codemirror_mode": {
    "name": "ipython",
    "version": 3
   },
   "file_extension": ".py",
   "mimetype": "text/x-python",
   "name": "python",
   "nbconvert_exporter": "python",
   "pygments_lexer": "ipython3",
   "version": "3.8.8"
  }
 },
 "nbformat": 4,
 "nbformat_minor": 5
}
